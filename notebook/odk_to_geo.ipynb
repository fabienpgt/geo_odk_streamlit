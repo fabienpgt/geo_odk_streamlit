{
 "cells": [
  {
   "cell_type": "code",
   "execution_count": null,
   "metadata": {},
   "outputs": [],
   "source": [
    "import pandas as pd\n",
    "import geopandas as gpd\n",
    "import tempfile\n",
    "import zipfile\n",
    "import os\n",
    "from shapely.geometry import LineString, Point, Polygon\n",
    "import fiona\n",
    "\n",
    "# Enable KML driver for reading and writing\n",
    "fiona.supported_drivers['KML'] = 'rw'"
   ]
  },
  {
   "cell_type": "code",
   "execution_count": null,
   "metadata": {},
   "outputs": [],
   "source": [
    "# Determine geometry type based on sample coordinates\n",
    "def determine_geometry_type(coords):\n",
    "    if len(coords) == 1:\n",
    "        return \"Point\"\n",
    "    elif len(coords) >= 2 and coords[0] != coords[-1]:\n",
    "        return \"Line\"\n",
    "    elif len(coords) >= 4 and coords[0] == coords[-1]:\n",
    "        return \"Polygon\"\n",
    "    return \"Unknown\"\n",
    "\n",
    "# Parse and validate coordinates\n",
    "def parse_and_validate_coordinates(coord_string):\n",
    "    if isinstance(coord_string, str):\n",
    "        try:\n",
    "            coords = [\n",
    "                tuple(map(float, coord.split()[:2]))[::-1]\n",
    "                for coord in coord_string.split(';')\n",
    "                if len(coord.split()) >= 2\n",
    "            ]\n",
    "            geometry_type = determine_geometry_type(coords)\n",
    "            return coords, geometry_type\n",
    "        except ValueError:\n",
    "            return [], \"Invalid\"\n",
    "    else:\n",
    "        return [], \"Invalid\"\n",
    "\n",
    "# Convert data to GeoDataFrame\n",
    "def convert_to_gdf(df, gps_col, transformation, geometry_type, selected_columns):\n",
    "    # Convert datetime columns to strings\n",
    "    for col in selected_columns:\n",
    "        if pd.api.types.is_datetime64_any_dtype(df[col]):\n",
    "            df[col] = df[col].astype(str)\n",
    "\n",
    "    def create_geometry(coords):\n",
    "        if geometry_type == \"Point\":\n",
    "            return Point(coords[0])\n",
    "        elif geometry_type == \"Line\" or (geometry_type == \"Polygon\" and transformation == \"line\"):\n",
    "            return LineString(coords)\n",
    "        elif geometry_type == \"Polygon\" and transformation == \"polygon\":\n",
    "            return Polygon(coords)\n",
    "        return None\n",
    "\n",
    "    # Create geometry column based on coordinates\n",
    "    df['geometry'] = df[gps_col].apply(lambda coord_string: create_geometry(parse_and_validate_coordinates(coord_string)[0]))\n",
    "\n",
    "    # Return GeoDataFrame with selected columns\n",
    "    gdf = gpd.GeoDataFrame(df[selected_columns + ['geometry']], geometry='geometry')\n",
    "\n",
    "    # Set CRS to epsg 4326\n",
    "    gdf.set_crs(epsg=4326, inplace=True)\n",
    "\n",
    "    return gdf"
   ]
  },
  {
   "cell_type": "code",
   "execution_count": null,
   "metadata": {},
   "outputs": [],
   "source": [
    "# User Inputs\n",
    "file_path = 'path/to/your/file.xlsx'  # Change to your file path\n",
    "sheet_name = 'Sheet1'  # Change to your sheet name if using Excel\n",
    "delimiter = ','  # Change to your delimiter if using CSV\n",
    "gps_column = 'GPS'  # Change to your GPS column name\n",
    "transformation = 'line'  # Change to 'polygon' if needed\n",
    "selected_columns = ['GPS', 'OtherColumn1', 'OtherColumn2']  # Change to your selected columns\n",
    "output_format = 'geojson'  # Change to desired output format: 'shapefile', 'kml', 'gpkg', 'geoparquet', 'geojson'"
   ]
  },
  {
   "cell_type": "code",
   "execution_count": null,
   "metadata": {},
   "outputs": [],
   "source": [
    "# Load Data\n",
    "file_extension = file_path.split('.')[-1].lower()\n",
    "if file_extension == 'xlsx':\n",
    "    df = pd.read_excel(file_path, sheet_name=sheet_name)\n",
    "elif file_extension == 'csv':\n",
    "    df = pd.read_csv(file_path, delimiter=delimiter)"
   ]
  },
  {
   "cell_type": "code",
   "execution_count": null,
   "metadata": {},
   "outputs": [],
   "source": [
    "# Validate GPS Column\n",
    "sample_coords, geometry_type = parse_and_validate_coordinates(df[gps_column].iloc[0])\n",
    "if geometry_type == \"Invalid\":\n",
    "    raise ValueError(\"The selected column does not contain valid GPS data.\")"
   ]
  },
  {
   "cell_type": "code",
   "execution_count": null,
   "metadata": {},
   "outputs": [],
   "source": [
    "# Filter Data\n",
    "df_filtered = df[df[gps_column].notnull()]\n",
    "if df_filtered.empty:\n",
    "    raise ValueError(\"No valid GPS data found.\")"
   ]
  },
  {
   "cell_type": "code",
   "execution_count": null,
   "metadata": {},
   "outputs": [],
   "source": [
    "# Convert to GeoDataFrame\n",
    "gdf = convert_to_gdf(df_filtered, gps_column, transformation, geometry_type, selected_columns)"
   ]
  },
  {
   "cell_type": "code",
   "execution_count": null,
   "metadata": {},
   "outputs": [],
   "source": [
    "# Save Output\n",
    "with tempfile.TemporaryDirectory() as tmpdirname:\n",
    "    output_base = os.path.join(tmpdirname, f\"{sheet_name if sheet_name else 'data'}_{gps_column}_{transformation}\")\n",
    "    output_file = \"\"\n",
    "\n",
    "    if output_format == \"shapefile\":\n",
    "        gdf.to_file(f\"{output_base}.shp\")\n",
    "        zip_filename = f\"{output_base}.zip\"\n",
    "        with zipfile.ZipFile(zip_filename, 'w') as zipf:\n",
    "            for ext in ['shp', 'shx', 'dbf', 'prj', 'cpg']:\n",
    "                file = f\"{output_base}.{ext}\"\n",
    "                if os.path.exists(file):\n",
    "                    zipf.write(file, os.path.basename(file))\n",
    "        output_file = zip_filename\n",
    "    elif output_format == \"kml\":\n",
    "        output_file = f\"{output_base}.kml\"\n",
    "        gdf.to_file(output_file, driver='KML')\n",
    "    elif output_format == \"gpkg\":\n",
    "        output_file = f\"{output_base}.gpkg\"\n",
    "        gdf.to_file(output_file, driver='GPKG')\n",
    "    elif output_format == \"geoparquet\":\n",
    "        output_file = f\"{output_base}.parquet\"\n",
    "        gdf.to_parquet(output_file)\n",
    "    elif output_format == \"geojson\":\n",
    "        output_file = f\"{output_base}.geojson\"\n",
    "        gdf.to_file(output_file, driver='GeoJSON')\n",
    "\n",
    "    print(\"File created successfully! 🎉\")\n",
    "    print(f\"Download the file from: {output_file}\")"
   ]
  }
 ],
 "metadata": {
  "kernelspec": {
   "display_name": "geo-odk-streamlit-JSR1EG6a-py3.12",
   "language": "python",
   "name": "python3"
  },
  "language_info": {
   "name": "python",
   "version": "3.12.7"
  }
 },
 "nbformat": 4,
 "nbformat_minor": 2
}
